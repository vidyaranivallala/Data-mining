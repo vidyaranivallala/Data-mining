{
 "cells": [
  {
   "cell_type": "markdown",
   "id": "a0076141",
   "metadata": {},
   "source": [
    "# Assignment #01\n",
    "\n",
    "This assignment is composed of multiple Python and NumPy programming exercises. The deliverable of this assignment is this jupyter-notebook completed with your solution.\n",
    "\n",
    "You are being assessed based on:\n",
    "\n",
    "1. Code execution - 25% \n",
    "2. Clarity of the code (e.g., easy to follow, has pertinent comments, etc.) - 25%\n",
    "3. Proper usage of the techniques seen in class - 25% \n",
    "4. Quality and correcteness of the results - 25%\n",
    "\n",
    "Points distribution:\n",
    "- Question 2-21: 3 points per question \n",
    "- Questions 22-26: 8 points per question (total 40)\n",
    "- Total: 100 ponits"
   ]
  },
  {
   "cell_type": "code",
   "execution_count": 1,
   "id": "406e1cc3",
   "metadata": {},
   "outputs": [],
   "source": [
    "import matplotlib.pylab as plt"
   ]
  },
  {
   "cell_type": "markdown",
   "id": "e630a6ff",
   "metadata": {},
   "source": [
    "**1. Import the numpy package under the name np**"
   ]
  },
  {
   "cell_type": "code",
   "execution_count": 2,
   "id": "a8189569",
   "metadata": {},
   "outputs": [],
   "source": [
    "import numpy as np\n"
   ]
  },
  {
   "cell_type": "markdown",
   "id": "69481ae6",
   "metadata": {},
   "source": [
    "**2. Print the numpy version and the configuration**"
   ]
  },
  {
   "cell_type": "code",
   "execution_count": 3,
   "id": "6898e793",
   "metadata": {},
   "outputs": [
    {
     "name": "stdout",
     "output_type": "stream",
     "text": [
      "Numpy Version: 1.23.5\n",
      "blas_armpl_info:\n",
      "  NOT AVAILABLE\n",
      "blas_mkl_info:\n",
      "    libraries = ['mkl_rt']\n",
      "    library_dirs = ['C:/Users/V Somesh Yadav/anaconda3\\\\Library\\\\lib']\n",
      "    define_macros = [('SCIPY_MKL_H', None), ('HAVE_CBLAS', None)]\n",
      "    include_dirs = ['C:/Users/V Somesh Yadav/anaconda3\\\\Library\\\\include']\n",
      "blas_opt_info:\n",
      "    libraries = ['mkl_rt']\n",
      "    library_dirs = ['C:/Users/V Somesh Yadav/anaconda3\\\\Library\\\\lib']\n",
      "    define_macros = [('SCIPY_MKL_H', None), ('HAVE_CBLAS', None)]\n",
      "    include_dirs = ['C:/Users/V Somesh Yadav/anaconda3\\\\Library\\\\include']\n",
      "lapack_armpl_info:\n",
      "  NOT AVAILABLE\n",
      "lapack_mkl_info:\n",
      "    libraries = ['mkl_rt']\n",
      "    library_dirs = ['C:/Users/V Somesh Yadav/anaconda3\\\\Library\\\\lib']\n",
      "    define_macros = [('SCIPY_MKL_H', None), ('HAVE_CBLAS', None)]\n",
      "    include_dirs = ['C:/Users/V Somesh Yadav/anaconda3\\\\Library\\\\include']\n",
      "lapack_opt_info:\n",
      "    libraries = ['mkl_rt']\n",
      "    library_dirs = ['C:/Users/V Somesh Yadav/anaconda3\\\\Library\\\\lib']\n",
      "    define_macros = [('SCIPY_MKL_H', None), ('HAVE_CBLAS', None)]\n",
      "    include_dirs = ['C:/Users/V Somesh Yadav/anaconda3\\\\Library\\\\include']\n",
      "Supported SIMD extensions in this NumPy install:\n",
      "    baseline = SSE,SSE2,SSE3\n",
      "    found = SSSE3,SSE41,POPCNT,SSE42,AVX,F16C,FMA3,AVX2,AVX512F,AVX512CD,AVX512_SKX,AVX512_CLX,AVX512_CNL\n",
      "    not found = \n",
      "Numpy Configuration: None\n"
     ]
    }
   ],
   "source": [
    "# Print the numpy version and the configuration\n",
    "import numpy as np\n",
    "\n",
    "print(\"Numpy Version:\", np.__version__)\n",
    "print(\"Numpy Configuration:\", np.show_config())\n"
   ]
  },
  {
   "cell_type": "markdown",
   "id": "488e5b7e",
   "metadata": {},
   "source": [
    "**3. Create a 1D array of zeros of size 10 of type float32**"
   ]
  },
  {
   "cell_type": "code",
   "execution_count": 4,
   "id": "e0325599",
   "metadata": {},
   "outputs": [],
   "source": [
    "import numpy as np\n",
    "\n",
    "array_zeros = np.zeros(10, dtype=np.float32)\n"
   ]
  },
  {
   "cell_type": "markdown",
   "id": "2bb9ce0d",
   "metadata": {},
   "source": [
    "**4. Print the memory size of the array below**"
   ]
  },
  {
   "cell_type": "code",
   "execution_count": 5,
   "id": "c585efa0",
   "metadata": {},
   "outputs": [
    {
     "name": "stdout",
     "output_type": "stream",
     "text": [
      "3072\n"
     ]
    }
   ],
   "source": [
    "z = np.zeros((32,12))\n",
    "# Include your solution below\n",
    "\n",
    "\n",
    "# Memory size of the array\n",
    "import numpy as np\n",
    "\n",
    "z = np.zeros((32, 12))\n",
    "print(z.nbytes)\n"
   ]
  },
  {
   "cell_type": "markdown",
   "id": "ac3c1619",
   "metadata": {},
   "source": [
    "**5. Create a 1D array with values ranging from 10 to 58**"
   ]
  },
  {
   "cell_type": "code",
   "execution_count": 6,
   "id": "a7dad49f",
   "metadata": {},
   "outputs": [
    {
     "name": "stdout",
     "output_type": "stream",
     "text": [
      "[10 11 12 13 14 15 16 17 18 19 20 21 22 23 24 25 26 27 28 29 30 31 32 33\n",
      " 34 35 36 37 38 39 40 41 42 43 44 45 46 47 48 49 50 51 52 53 54 55 56 57\n",
      " 58]\n"
     ]
    }
   ],
   "source": [
    "import numpy as np\n",
    "\n",
    "array = np.arange(10, 59)\n",
    "print(array)\n"
   ]
  },
  {
   "cell_type": "markdown",
   "id": "481bc867",
   "metadata": {},
   "source": [
    "**6. Reverse the order of the values in the vector (first element becomes last)**"
   ]
  },
  {
   "cell_type": "code",
   "execution_count": 25,
   "id": "666b7284",
   "metadata": {},
   "outputs": [
    {
     "name": "stdout",
     "output_type": "stream",
     "text": [
      "[9 8 7 6 5 4 3 2 1 0]\n"
     ]
    }
   ],
   "source": [
    "a = np.arange(10)\n",
    "# Include your solution below\n",
    "\n",
    "a = np.arange(10)\n",
    "a_reversed = a[::-1]\n",
    "print(a_reversed)\n",
    "\n",
    "\n"
   ]
  },
  {
   "cell_type": "markdown",
   "id": "4015e4b7",
   "metadata": {},
   "source": [
    "**7. Create a 3x3 matrix with values ranging from 0 to 8**"
   ]
  },
  {
   "cell_type": "code",
   "execution_count": 26,
   "id": "5473afb8",
   "metadata": {},
   "outputs": [
    {
     "name": "stdout",
     "output_type": "stream",
     "text": [
      "[[0 1 2]\n",
      " [3 4 5]\n",
      " [6 7 8]]\n"
     ]
    }
   ],
   "source": [
    "matrix = np.arange(9).reshape(3, 3)\n",
    "print(matrix)\n"
   ]
  },
  {
   "cell_type": "markdown",
   "id": "5c4bc51f",
   "metadata": {},
   "source": [
    "**8. Create a 3x3 identity matrix**"
   ]
  },
  {
   "cell_type": "code",
   "execution_count": 27,
   "id": "53021a53",
   "metadata": {},
   "outputs": [
    {
     "name": "stdout",
     "output_type": "stream",
     "text": [
      "[[1. 0. 0.]\n",
      " [0. 1. 0.]\n",
      " [0. 0. 1.]]\n"
     ]
    }
   ],
   "source": [
    "identity_matrix = np.eye(3)\n",
    "print(identity_matrix)\n"
   ]
  },
  {
   "cell_type": "markdown",
   "id": "ece658cf",
   "metadata": {},
   "source": [
    "**9. Find and print the maximum values of each column in the array below** "
   ]
  },
  {
   "cell_type": "code",
   "execution_count": 28,
   "id": "0e9fb437",
   "metadata": {},
   "outputs": [
    {
     "name": "stdout",
     "output_type": "stream",
     "text": [
      "[0.90926008 0.92077839 0.92777602 0.97986601 0.81184875 0.97336601\n",
      " 0.96035339 0.93909322 0.89727    0.99751627 0.99805871]\n"
     ]
    }
   ],
   "source": [
    "z = np.random.random((10,11))\n",
    "# Include your solution below\n",
    "\n",
    "z = np.random.random((10, 11))\n",
    "max_values = np.max(z, axis=0)\n",
    "print(max_values)\n",
    "\n",
    "\n"
   ]
  },
  {
   "cell_type": "markdown",
   "id": "8f5454c7",
   "metadata": {},
   "source": [
    "**10. Create a $7 \\times 7$ array with 1s on the borders (first row and column, last row and columns) and 0s everywhere else**"
   ]
  },
  {
   "cell_type": "code",
   "execution_count": 29,
   "id": "1d875733",
   "metadata": {},
   "outputs": [
    {
     "name": "stdout",
     "output_type": "stream",
     "text": [
      "[[1 1 1 1 1 1 1]\n",
      " [1 0 0 0 0 0 1]\n",
      " [1 0 0 0 0 0 1]\n",
      " [1 0 0 0 0 0 1]\n",
      " [1 0 0 0 0 0 1]\n",
      " [1 0 0 0 0 0 1]\n",
      " [1 1 1 1 1 1 1]]\n"
     ]
    }
   ],
   "source": [
    "# Create a 7x7 array filled with zeros\n",
    "array = np.zeros((7, 7), dtype=int)\n",
    "\n",
    "# Setting the borders to 1\n",
    "array[0, :] = 1\n",
    "array[-1, :] = 1\n",
    "array[:, 0] = 1\n",
    "array[:, -1] = 1\n",
    "\n",
    "print(array)\n",
    "\n",
    "\n"
   ]
  },
  {
   "cell_type": "markdown",
   "id": "17463bad",
   "metadata": {},
   "source": [
    "**11. Pad the existing array below with zeros (i.e., add additional rows and columns with zeros). Use the NumPy pad function.**"
   ]
  },
  {
   "cell_type": "code",
   "execution_count": 30,
   "id": "d0c886eb",
   "metadata": {},
   "outputs": [
    {
     "name": "stdout",
     "output_type": "stream",
     "text": [
      "[[0. 0. 0. 0. 0. 0. 0. 0. 0.]\n",
      " [0. 0. 0. 0. 0. 0. 0. 0. 0.]\n",
      " [0. 0. 1. 1. 1. 1. 1. 0. 0.]\n",
      " [0. 0. 1. 1. 1. 1. 1. 0. 0.]\n",
      " [0. 0. 1. 1. 1. 1. 1. 0. 0.]\n",
      " [0. 0. 1. 1. 1. 1. 1. 0. 0.]\n",
      " [0. 0. 1. 1. 1. 1. 1. 0. 0.]\n",
      " [0. 0. 0. 0. 0. 0. 0. 0. 0.]\n",
      " [0. 0. 0. 0. 0. 0. 0. 0. 0.]]\n"
     ]
    }
   ],
   "source": [
    "z = np.ones((5,5))\n",
    "# Include your solution below\n",
    "padded_z = np.pad(z, pad_width=((2, 2), (2, 2)), mode='constant', constant_values=0)\n",
    "\n",
    "print(padded_z)"
   ]
  },
  {
   "cell_type": "markdown",
   "id": "cc605db6",
   "metadata": {},
   "source": [
    "**12. Extract the integer part of the random array of positive numbers below**"
   ]
  },
  {
   "cell_type": "code",
   "execution_count": 31,
   "id": "91262309",
   "metadata": {},
   "outputs": [
    {
     "name": "stdout",
     "output_type": "stream",
     "text": [
      "Original array:\n",
      "[2.76614964 1.74685687 5.52407437 8.41048431 1.11171919 3.5748749\n",
      " 2.93954882 1.03164537 5.69049495 1.30623953]\n",
      "Integer part using np.floor:\n",
      "[2. 1. 5. 8. 1. 3. 2. 1. 5. 1.]\n"
     ]
    }
   ],
   "source": [
    "z = np.random.uniform(0,10,10)\n",
    "# Include your solution below\n",
    "\n",
    "integer_part = np.floor(z)\n",
    "\n",
    "print(\"Original array:\")\n",
    "print(z)\n",
    "print(\"Integer part using np.floor:\")\n",
    "print(integer_part)"
   ]
  },
  {
   "cell_type": "markdown",
   "id": "b2322f9e",
   "metadata": {},
   "source": [
    "**13. Create a 5x5 matrix with rows with equal values ranging from 0 to 4 (i.e., [[0. 1. 2. 3. 4.]\n",
    " [0. 1. 2. 3. 4.]\n",
    " [0. 1. 2. 3. 4.]\n",
    " [0. 1. 2. 3. 4.]\n",
    " [0. 1. 2. 3. 4.]])**\n",
    "\n"
   ]
  },
  {
   "cell_type": "code",
   "execution_count": 32,
   "id": "7e5020cf",
   "metadata": {},
   "outputs": [
    {
     "name": "stdout",
     "output_type": "stream",
     "text": [
      "[[0 1 2 3 4]\n",
      " [0 1 2 3 4]\n",
      " [0 1 2 3 4]\n",
      " [0 1 2 3 4]\n",
      " [0 1 2 3 4]]\n"
     ]
    }
   ],
   "source": [
    "# Create a 5x5 matrix with rows ranging from 0 to 4\n",
    "matrix = np.arange(5)\n",
    "\n",
    "# Repeat the row vector to form the 5x5 matrix\n",
    "result = np.tile(matrix, (5, 1))\n",
    "\n",
    "print(result)\n"
   ]
  },
  {
   "cell_type": "markdown",
   "id": "a0e33aa2",
   "metadata": {},
   "source": [
    "**14. Create a vector of size 10 with values ranging from 0 to 1 (0 and 1 not included)**\n",
    "\n",
    "*Hint: Consider using the linspace function*"
   ]
  },
  {
   "cell_type": "code",
   "execution_count": 33,
   "id": "9dedac47",
   "metadata": {},
   "outputs": [
    {
     "name": "stdout",
     "output_type": "stream",
     "text": [
      "[0.09090909 0.18181818 0.27272727 0.36363636 0.45454545 0.54545455\n",
      " 0.63636364 0.72727273 0.81818182 0.90909091]\n"
     ]
    }
   ],
   "source": [
    "# Create a vector of size 10 with values ranging from 0 to 1, excluding 0 and 1\n",
    "vector = np.linspace(0, 1, 12)[1:-1]\n",
    "\n",
    "print(vector)\n"
   ]
  },
  {
   "cell_type": "markdown",
   "id": "7f53938a",
   "metadata": {},
   "source": [
    "**15. Create a random vector of size 10 and sort it**"
   ]
  },
  {
   "cell_type": "code",
   "execution_count": 34,
   "id": "5344f46b",
   "metadata": {},
   "outputs": [
    {
     "name": "stdout",
     "output_type": "stream",
     "text": [
      "Original vector:\n",
      "[0.05232596 0.360634   0.01045645 0.21291958 0.16060025 0.10086073\n",
      " 0.47361985 0.47901051 0.07009079 0.2431952 ]\n",
      "Sorted vector:\n",
      "[0.01045645 0.05232596 0.07009079 0.10086073 0.16060025 0.21291958\n",
      " 0.2431952  0.360634   0.47361985 0.47901051]\n"
     ]
    }
   ],
   "source": [
    "# Create a random vector of size 10\n",
    "random_vector = np.random.random(10)\n",
    "\n",
    "# Sort the vector\n",
    "sorted_vector = np.sort(random_vector)\n",
    "\n",
    "print(\"Original vector:\")\n",
    "print(random_vector)\n",
    "print(\"Sorted vector:\")\n",
    "print(sorted_vector)\n"
   ]
  },
  {
   "cell_type": "markdown",
   "id": "993d1dcd",
   "metadata": {},
   "source": [
    "**16. Consider the cartesian coordinates below (x and y), convert them to polar coordinates (r and θ)**\n",
    " <br> **Cartesian ordered pair (x, y) converts to the Polar ordered pair**\n",
    " <br> Since \n",
    "\\begin{equation*}\n",
    "\\tan\\theta=\\frac{y}{x},\\\\   \n",
    "\\theta=\\tan^{−1}\\frac{y}{x} \n",
    "\\end{equation*}\n",
    "<br>So, the Cartesian ordered pair (x,y) converts to the Polar ordered pair\n",
    "\\begin{equation*}\n",
    " (r,\\theta)=(\\sqrt{x^2+y^2},\\tan^{−1}\\frac{y}{x}) \n",
    "\\end{equation*}"
   ]
  },
  {
   "cell_type": "code",
   "execution_count": 35,
   "id": "352ee19a",
   "metadata": {},
   "outputs": [
    {
     "name": "stdout",
     "output_type": "stream",
     "text": [
      "Cartesian coordinates (x, y):\n",
      "[[0.87081439 0.31379858]\n",
      " [0.12929513 0.32843619]\n",
      " [0.15418429 0.63120332]\n",
      " [0.63635097 0.88917664]\n",
      " [0.2544051  0.88448832]\n",
      " [0.24360582 0.45094716]\n",
      " [0.60802123 0.18964542]\n",
      " [0.99424635 0.3333199 ]\n",
      " [0.39102362 0.58214583]\n",
      " [0.09686171 0.62225708]]\n",
      "Polar coordinates (r, θ):\n",
      "[[0.92562803 0.34586601]\n",
      " [0.35296963 1.19575964]\n",
      " [0.64976182 1.33121745]\n",
      " [1.09342473 0.94963534]\n",
      " [0.9203486  1.29072672]\n",
      " [0.51253989 1.07550108]\n",
      " [0.63691067 0.30234355]\n",
      " [1.04863147 0.32347349]\n",
      " [0.70127971 0.97932162]\n",
      " [0.62975079 1.41637373]]\n"
     ]
    }
   ],
   "source": [
    "z = np.random.random((10,2))\n",
    "x,y = z[:,0], z[:,1]\n",
    "\n",
    "# Include your solution below\n",
    "\n",
    "# Generate random Cartesian coordinates\n",
    "z = np.random.random((10, 2))\n",
    "x, y = z[:, 0], z[:, 1]\n",
    "\n",
    "# Convert Cartesian coordinates to polar coordinates\n",
    "r = np.sqrt(x**2 + y**2)  # Radial distance\n",
    "theta = np.arctan2(y, x)  # Angle in radians\n",
    "\n",
    "# Combine r and theta into a single array for display\n",
    "polar_coordinates = np.column_stack((r, theta))\n",
    "\n",
    "print(\"Cartesian coordinates (x, y):\")\n",
    "print(z)\n",
    "print(\"Polar coordinates (r, θ):\")\n",
    "print(polar_coordinates)\n",
    "\n"
   ]
  },
  {
   "cell_type": "markdown",
   "id": "1a70d322",
   "metadata": {},
   "source": [
    "**17. Create random vector of size 20 and replace the maximum value by -10**"
   ]
  },
  {
   "cell_type": "code",
   "execution_count": 36,
   "id": "afcdb30c",
   "metadata": {},
   "outputs": [
    {
     "name": "stdout",
     "output_type": "stream",
     "text": [
      "Modified vector:\n",
      "[  0.18308862   0.81738168   0.40075452   0.4138712    0.71297337\n",
      "   0.72540403   0.02784352   0.93961964   0.02646129   0.68803331\n",
      "   0.34294766   0.66664375   0.92313792 -10.           0.4930527\n",
      "   0.61943164   0.32630977   0.22030133   0.83452762   0.47137124]\n"
     ]
    }
   ],
   "source": [
    "# Create a random vector of size 20\n",
    "vector = np.random.random(20)\n",
    "\n",
    "# Find the index of the maximum value\n",
    "max_index = np.argmax(vector)\n",
    "\n",
    "# Replace the maximum value with -10\n",
    "vector[max_index] = -10\n",
    "\n",
    "print(\"Modified vector:\")\n",
    "print(vector)\n"
   ]
  },
  {
   "cell_type": "markdown",
   "id": "4882ef61",
   "metadata": {},
   "source": [
    "**18. Find the nearest value from a given value (z) in an array (Z)**"
   ]
  },
  {
   "cell_type": "code",
   "execution_count": 19,
   "id": "6a672218",
   "metadata": {},
   "outputs": [
    {
     "name": "stdout",
     "output_type": "stream",
     "text": [
      "Array Z:\n",
      "[0.07310193 0.22844759 0.08679479 0.28654104 0.14660805 0.91752657\n",
      " 0.61355543 0.61418008 0.32248348 0.38864655]\n",
      "Value z:\n",
      "0.5\n",
      "Nearest value to z in array Z:\n",
      "0.3886465473862887\n"
     ]
    }
   ],
   "source": [
    "Z = np.random.uniform(0,1,10)\n",
    "z = 0.5\n",
    "# Include your solution below\n",
    "\n",
    "\n",
    "# Compute the absolute differences between each element in Z and the value z\n",
    "differences = np.abs(Z - z)\n",
    "\n",
    "# Find the index of the minimum difference\n",
    "nearest_index = np.argmin(differences)\n",
    "\n",
    "# Get the nearest value\n",
    "nearest_value = Z[nearest_index]\n",
    "\n",
    "print(\"Array Z:\")\n",
    "print(Z)\n",
    "print(\"Value z:\")\n",
    "print(z)\n",
    "print(\"Nearest value to z in array Z:\")\n",
    "print(nearest_value)"
   ]
  },
  {
   "cell_type": "markdown",
   "id": "1b359b48",
   "metadata": {},
   "source": [
    "**19. Consider the vector [5, 4, 3, 2, 1], how to build a new vector with 3 consecutive zeros interleaved between each value?**"
   ]
  },
  {
   "cell_type": "code",
   "execution_count": 20,
   "id": "78033671",
   "metadata": {},
   "outputs": [
    {
     "name": "stdout",
     "output_type": "stream",
     "text": [
      "Original array:\n",
      "[4 3 2 1 0]\n",
      "New vector with interleaved zeros:\n",
      "[4 0 0 0 3 0 0 0 2 0 0 0 1 0 0 0 0 0 0 0]\n"
     ]
    }
   ],
   "source": [
    "arr = np.arange(5)[::-1]\n",
    "zeros = 3\n",
    "# Include your solution below\n",
    "\n",
    "# Create a new list to hold the result\n",
    "new_list = []\n",
    "\n",
    "# Iterate through the original array\n",
    "for value in arr:\n",
    "    # Append the value to the new list\n",
    "    new_list.append(value)\n",
    "    # Append zeros to the new list\n",
    "    new_list.extend([0] * zeros)\n",
    "\n",
    "# Convert the list to a NumPy array\n",
    "new_vector = np.array(new_list)\n",
    "\n",
    "print(\"Original array:\")\n",
    "print(arr)\n",
    "print(\"New vector with interleaved zeros:\")\n",
    "print(new_vector)"
   ]
  },
  {
   "cell_type": "markdown",
   "id": "bbb34ee8",
   "metadata": {},
   "source": [
    "**20. Consider an array of dimension (5,5,3), how to mulitply it element-wise by an array with dimensions (5,5) - i.e., (5,5,0)$\\times$(5,5), (5,5,1)$\\times$(5,5), (5,5,2)$\\times$(5,5)**\n",
    "\n",
    "<br> Element-wise multiplication, or Hadamard Product, multiples every element of the first matrix by the equivalent element in the second matrix. When using this method, both matrices should have the same dimensions."
   ]
  },
  {
   "cell_type": "code",
   "execution_count": 21,
   "id": "d9f47e30",
   "metadata": {},
   "outputs": [
    {
     "name": "stdout",
     "output_type": "stream",
     "text": [
      "Array A:\n",
      "[[[1. 1. 1. 1. 1.]\n",
      "  [1. 1. 1. 1. 1.]\n",
      "  [1. 1. 1. 1. 1.]\n",
      "  [1. 1. 1. 1. 1.]\n",
      "  [1. 1. 1. 1. 1.]]\n",
      "\n",
      " [[1. 1. 1. 1. 1.]\n",
      "  [1. 1. 1. 1. 1.]\n",
      "  [1. 1. 1. 1. 1.]\n",
      "  [1. 1. 1. 1. 1.]\n",
      "  [1. 1. 1. 1. 1.]]\n",
      "\n",
      " [[1. 1. 1. 1. 1.]\n",
      "  [1. 1. 1. 1. 1.]\n",
      "  [1. 1. 1. 1. 1.]\n",
      "  [1. 1. 1. 1. 1.]\n",
      "  [1. 1. 1. 1. 1.]]]\n",
      "Array B:\n",
      "[[2. 2. 2. 2. 2.]\n",
      " [2. 2. 2. 2. 2.]\n",
      " [2. 2. 2. 2. 2.]\n",
      " [2. 2. 2. 2. 2.]\n",
      " [2. 2. 2. 2. 2.]]\n",
      "Result of element-wise multiplication:\n",
      "[[[2. 2. 2. 2. 2.]\n",
      "  [2. 2. 2. 2. 2.]\n",
      "  [2. 2. 2. 2. 2.]\n",
      "  [2. 2. 2. 2. 2.]\n",
      "  [2. 2. 2. 2. 2.]]\n",
      "\n",
      " [[2. 2. 2. 2. 2.]\n",
      "  [2. 2. 2. 2. 2.]\n",
      "  [2. 2. 2. 2. 2.]\n",
      "  [2. 2. 2. 2. 2.]\n",
      "  [2. 2. 2. 2. 2.]]\n",
      "\n",
      " [[2. 2. 2. 2. 2.]\n",
      "  [2. 2. 2. 2. 2.]\n",
      "  [2. 2. 2. 2. 2.]\n",
      "  [2. 2. 2. 2. 2.]\n",
      "  [2. 2. 2. 2. 2.]]]\n"
     ]
    }
   ],
   "source": [
    "A = np.ones((3,5,5)) #3 Sets, 5 Rows per Set, 5 Columns\n",
    "B = 2*np.ones((5,5))\n",
    "# Include your solution below\n",
    "\n",
    "# Multiply A and B element-wise using broadcasting\n",
    "result = A * B[np.newaxis, :, :]\n",
    "\n",
    "print(\"Array A:\")\n",
    "print(A)\n",
    "print(\"Array B:\")\n",
    "print(B)\n",
    "print(\"Result of element-wise multiplication:\")\n",
    "print(result)"
   ]
  },
  {
   "cell_type": "markdown",
   "id": "147c7e98",
   "metadata": {},
   "source": [
    "**21. Swap the first and second rows of the 2D array below**"
   ]
  },
  {
   "cell_type": "code",
   "execution_count": 22,
   "id": "167cd3da",
   "metadata": {},
   "outputs": [
    {
     "name": "stdout",
     "output_type": "stream",
     "text": [
      "Modified array with swapped rows:\n",
      "[[ 5  6  7  8  9]\n",
      " [ 0  1  2  3  4]\n",
      " [10 11 12 13 14]\n",
      " [15 16 17 18 19]\n",
      " [20 21 22 23 24]\n",
      " [25 26 27 28 29]]\n"
     ]
    }
   ],
   "source": [
    "arr = np.arange(30).reshape(6,5)\n",
    "\n",
    "# Include your solution below\n",
    "\n",
    "# Swap the first and second rows\n",
    "arr[[0, 1]] = arr[[1, 0]]\n",
    "\n",
    "print(\"Modified array with swapped rows:\")\n",
    "print(arr)"
   ]
  },
  {
   "cell_type": "markdown",
   "id": "b9d3c9f4",
   "metadata": {},
   "source": [
    "**22. Write a function that receives as input a 2D Boolean NumPy array and outputs the coordinates of the minimal bounding-box\n",
    "that encloses all non-zero elements in the input array**\n",
    "\n",
    "**Tip:** search for the functions nonzero in the NumPy documentation.\n",
    "\n",
    "<img src=\"Figures/bin_image.png\" width=\"150\" /> "
   ]
  },
  {
   "cell_type": "code",
   "execution_count": 23,
   "id": "ba68addb",
   "metadata": {},
   "outputs": [
    {
     "data": {
      "image/png": "[encoded data removed]",
      "text/plain": [
       "<Figure size 640x480 with 1 Axes>"
      ]
     },
     "metadata": {},
     "output_type": "display_data"
    },
    {
     "data": {
      "text/plain": [
       "<matplotlib.patches.Rectangle at 0x1beda7ee1d0>"
      ]
     },
     "execution_count": 23,
     "metadata": {},
     "output_type": "execute_result"
    },
    {
     "data": {
      "image/png": "[encoded data removed]",
      "text/plain": [
       "<Figure size 640x480 with 1 Axes>"
      ]
     },
     "metadata": {},
     "output_type": "display_data"
    }
   ],
   "source": [
    "# for this question, you just need to complete the \"def bbox(img):\" function\n",
    "\n",
    "# Tip: search for the functions nonzero in the NumPy documentation.\n",
    "import matplotlib.pyplot as plt\n",
    "from PIL import Image\n",
    "from matplotlib.patches import Rectangle\n",
    "import numpy as np\n",
    "\n",
    "def bbox(img):\n",
    "    #include your solution below\n",
    "    # Get the coordinates of non-zero elements\n",
    "    y_nonzero, x_nonzero = np.nonzero(img)\n",
    "    \n",
    "    # Find the minimum and maximum coordinates\n",
    "    x_min = np.min(x_nonzero)\n",
    "    x_max = np.max(x_nonzero)\n",
    "    y_min = np.min(y_nonzero)\n",
    "    y_max = np.max(y_nonzero)\n",
    "    \n",
    "    return x_min, y_min, x_max, y_max\n",
    "# Load the image, convert to Boolean array\n",
    "im = Image.open('Figures/bin_image.png').convert('L')\n",
    "img = np.array(im) > 0\n",
    "\n",
    "# Get the bounding box coordinates\n",
    "x_min, y_min, x_max, y_max = bbox(img)\n",
    "\n",
    "# Display the image and the bounding box\n",
    "plt.imshow(Image.open('Figures/bin_image.png'))\n",
    "plt.gca().add_patch(Rectangle((x_min, y_min), x_max - x_min, y_max - y_min, linewidth=1, edgecolor='r', facecolor='none'))\n",
    "plt.show()\n",
    "    \n",
    "\n",
    "\n",
    "from PIL import Image\n",
    "from matplotlib.patches import Rectangle\n",
    "\n",
    "im = Image.open('Figures/bin_image.png').convert('L') #only stores a greyscale, not colour.\n",
    "img = np.array(im) > 0\n",
    "\n",
    "x_min, y_min, x_max, y_max = bbox(img) \n",
    "\n",
    "plt.imshow(Image.open('Figures/bin_image.png'))\n",
    "# Add the patch to the Axes\n",
    "plt.gca().add_patch(Rectangle((x_min,y_min),x_max-x_min,y_max-y_min,linewidth=1,edgecolor='r',facecolor='none'))\n"
   ]
  },
  {
   "cell_type": "markdown",
   "id": "20e0d092",
   "metadata": {},
   "source": [
    "**23.Write a function to compute the average over a sliding window of length N over a 1D array?** Assume the size of the array is divisible by N\n",
    "\n",
    "*Example:* [1,2,3,4,5,6,7,8,9], N = 3 -> [2,5,8]"
   ]
  },
  {
   "cell_type": "code",
   "execution_count": 39,
   "id": "0a4bd3ca",
   "metadata": {},
   "outputs": [
    {
     "name": "stdout",
     "output_type": "stream",
     "text": [
      "[2. 5. 8.]\n"
     ]
    }
   ],
   "source": [
    "def moving_average(x, N):\n",
    "    #define your function here\n",
    "    # Check that the length of x is divisible by N\n",
    "    if len(x) % N != 0:\n",
    "        raise ValueError(\"The length of the array must be divisible by N.\")\n",
    "    \n",
    "    # Calculate the number of windows\n",
    "    num_windows = len(x) // N\n",
    "    \n",
    "    # Initialize an empty list to store the moving averages\n",
    "    averages = np.empty(num_windows)\n",
    "    \n",
    "    # Compute the moving averages\n",
    "    for i in range(num_windows):\n",
    "        start_idx = i * N\n",
    "        end_idx = start_idx + N\n",
    "        window = x[start_idx:end_idx]\n",
    "        averages[i] = np.mean(window)\n",
    "    \n",
    "    return averages\n",
    "x = np.array([1, 2, 3, 4, 5, 6, 7, 8, 9])\n",
    "N = 3\n",
    "print(moving_average(x, N))\n"
   ]
  },
  {
   "cell_type": "markdown",
   "id": "e88decef",
   "metadata": {},
   "source": [
    "**24.  Given a sorted 1D array C that corresponds to a bincount, how to produce an array A such that np.bincount(A) == C?**\n",
    "\n",
    "*Example:* C = [3,2,4] -> D = [0,0,0,1,1,2,2,2,2]\n",
    "\n",
    "*Tip:* Consider using the NumPy repeat function"
   ]
  },
  {
   "cell_type": "code",
   "execution_count": 41,
   "id": "e8f171ae",
   "metadata": {},
   "outputs": [
    {
     "name": "stdout",
     "output_type": "stream",
     "text": [
      "Array A:\n",
      "[0 0 0 1 1 2 2 2 2]\n",
      "Bincount of A:\n",
      "[3 2 4]\n"
     ]
    }
   ],
   "source": [
    "D = np.array([0,0,0,1,1,2,2,2,2]) #count number of occurrences from 0 -> 2\n",
    "C = np.bincount(D)\n",
    "\n",
    "# Include your solution here\n",
    "def array_from_bincount(C):\n",
    "    # Create the array A using np.repeat\n",
    "    A = np.repeat(np.arange(len(C)), C)\n",
    "    return A\n",
    "\n",
    "C = np.array([3, 2, 4])\n",
    "A = array_from_bincount(C)\n",
    "print(\"Array A:\")\n",
    "print(A)\n",
    "\n",
    "# Verify by computing the bincount of A\n",
    "print(\"Bincount of A:\")\n",
    "print(np.bincount(A))\n",
    "\n"
   ]
  },
  {
   "cell_type": "markdown",
   "id": "d6b2cff6",
   "metadata": {},
   "source": [
    "**25. Find the most frequent value in the array below?**"
   ]
  },
  {
   "cell_type": "code",
   "execution_count": 42,
   "id": "d49e1bd2",
   "metadata": {},
   "outputs": [
    {
     "name": "stdout",
     "output_type": "stream",
     "text": [
      "Array:\n",
      "[2 0 1 2 9 2 9 3 2 8 5 4 8 3 0 2 5 2 9 5 0 9 7 4 2 4 0 0 5 6 8 1 8 0 2 3 4\n",
      " 4 3 0 3 5 9 4 9 6 0 4 9 1]\n",
      "Most frequent value:\n",
      "0\n"
     ]
    }
   ],
   "source": [
    "arr = np.random.randint(0,10,50)\n",
    "# Include your solution below\n",
    "\n",
    "# Count occurrences of each value\n",
    "counts = np.bincount(arr)\n",
    "\n",
    "# Find the most frequent value\n",
    "most_frequent_value = np.argmax(counts)\n",
    "\n",
    "print(\"Array:\")\n",
    "print(arr)\n",
    "print(\"Most frequent value:\")\n",
    "print(most_frequent_value)"
   ]
  },
  {
   "cell_type": "markdown",
   "id": "9f73e434",
   "metadata": {},
   "source": [
    "**26. Write a function to return the n largest values of an array** "
   ]
  },
  {
   "cell_type": "code",
   "execution_count": 43,
   "id": "1ad00362",
   "metadata": {},
   "outputs": [
    {
     "name": "stdout",
     "output_type": "stream",
     "text": [
      "[99 98 97 96 95]\n"
     ]
    }
   ],
   "source": [
    "def nlargest(a, n = 5):\n",
    "    # Include your solution here\n",
    "    # Use np.partition to find the n largest values\n",
    "    if n > len(a):\n",
    "        raise ValueError(\"n cannot be greater than the length of the array.\")\n",
    "    \n",
    "    # Find the n largest elements using np.partition\n",
    "    partitioned_array = np.partition(a, -n)\n",
    "    largest_values = partitioned_array[-n:]\n",
    "    \n",
    "    # Sort the largest values in descending order\n",
    "    largest_values = np.sort(largest_values)[::-1]\n",
    "    \n",
    "    return largest_values\n",
    "\n",
    "\n",
    "arr = np.arange(100)\n",
    "np.random.shuffle(arr)\n",
    "n = 5\n",
    "print(nlargest(arr,n))    "
   ]
  },
  {
   "cell_type": "code",
   "execution_count": null,
   "id": "58badc03",
   "metadata": {},
   "outputs": [],
   "source": []
  }
 ],
 "metadata": {
  "kernelspec": {
   "display_name": "Python 3 (ipykernel)",
   "language": "python",
   "name": "python3"
  },
  "language_info": {
   "codemirror_mode": {
    "name": "ipython",
    "version": 3
   },
   "file_extension": ".py",
   "mimetype": "text/x-python",
   "name": "python",
   "nbconvert_exporter": "python",
   "pygments_lexer": "ipython3",
   "version": "3.10.9"
  }
 },
 "nbformat": 4,
 "nbformat_minor": 5
}
